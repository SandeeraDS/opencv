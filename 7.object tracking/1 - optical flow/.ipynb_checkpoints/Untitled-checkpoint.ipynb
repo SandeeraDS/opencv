{
 "cells": [
  {
   "cell_type": "code",
   "execution_count": 1,
   "metadata": {},
   "outputs": [],
   "source": [
    "import cv2\n",
    "import numpy as np"
   ]
  },
  {
   "cell_type": "code",
   "execution_count": 2,
   "metadata": {},
   "outputs": [],
   "source": [
    "corner_track_params = dict(maxCorners = 10,qualityLevel = 0.3, minDistance = 7,blockSize=7) \n",
    "#for si-tomasi corner detection - goodfeatures to track"
   ]
  },
  {
   "cell_type": "code",
   "execution_count": 3,
   "metadata": {},
   "outputs": [],
   "source": [
    "lk_params = dict(winSize=(200,200),maxLevel= 2,criteria = (cv2.TERM_CRITERIA_EPS | cv2.TermCriteria_COUNT,10,0.03)) \n",
    "#lucas-kanada optical flow function\n",
    "#if there is small window you going to be more sensitive to noise & you may mis larger motions(fasly moving points)\n",
    "#if larger window size not sensitive smaller motion of the points(has two frames - hard to detect is it moved-smaller movement)\n",
    "# 10 and 0.03 is iterations for criteria"
   ]
  },
  {
   "cell_type": "code",
   "execution_count": null,
   "metadata": {},
   "outputs": [],
   "source": [
    "cap = cv2.VideoCapture(0)\n",
    "\n",
    "ret , prev_frame = cap.read() # read very first frame and treate it as previous frame\n",
    "\n",
    "prev_gray = cv2.cvtColor(prev_frame,cv2.COLOR_BGR2GRAY)\n",
    "\n",
    "#point to track - using si-tomasi\n",
    "prevPts  = cv2.goodFeaturesToTrack(prev_gray,mask=None,**corner_track_params) #** is the way passing dictionary to function\n",
    "\n",
    "mask = np.zeros_like(prev_frame) # create a nupy array with zero and same shap as frame\n",
    "#this mask is for displaying actual points and drawing lines\n",
    "#this mask is for draw on\n",
    "\n",
    "while True :\n",
    "    \n",
    "    ret,frame = cap.read() #current frame\n",
    "    \n",
    "    frame_gray = cv2.cvtColor(frame,cv2.COLOR_BGR2GRAY)\n",
    "    \n",
    "    nextPts, status, err = cv2.calcOpticalFlowPyrLK(prev_gray,frame_gray,prevPts,None,**lk_params) #None = next points\n",
    "    \n",
    "    #status is array - out put status vector\n",
    "    #each element in the vector is set to one if the flow for the correspoing feature has been found otherwise zero\n",
    "    \n",
    "    good_new = nextPts[status==1]\n",
    "    good_prev = prevPts[status==1]\n",
    "\n",
    "    for i, (new,prev) in enumerate(zip(good_new,good_prev)):\n",
    "        x_new,y_new = new.ravel()\n",
    "        x_prev,y_prev = prev.ravel()\n",
    "        \n",
    "        mask = cv2.line(mask,(x_new,y_new),(x_prev,y_prev),(0,255,0),3)\n",
    "        \n",
    "        frame = cv2.circle(frame,(x_new,y_new),8,(0,0,255),-1) #thickness -1 for fill the circle\n",
    "        \n",
    "        img = cv2.add(frame,mask)\n",
    "        cv2.imshow('tracking',img)\n",
    "        \n",
    "        k = cv2.waitKey(30) & 0xFF\n",
    "        if k==27:\n",
    "            break\n",
    "            \n",
    "        prev_gray = frame_gray.copy()\n",
    "        prevPts = good_new.reshape(-1,1,2)\n",
    "        \n",
    "cv2.destroyAllWindows()\n",
    "cap.release()\n",
    "\n"
   ]
  },
  {
   "cell_type": "code",
   "execution_count": null,
   "metadata": {},
   "outputs": [],
   "source": []
  }
 ],
 "metadata": {
  "kernelspec": {
   "display_name": "Python 3",
   "language": "python",
   "name": "python3"
  },
  "language_info": {
   "codemirror_mode": {
    "name": "ipython",
    "version": 3
   },
   "file_extension": ".py",
   "mimetype": "text/x-python",
   "name": "python",
   "nbconvert_exporter": "python",
   "pygments_lexer": "ipython3",
   "version": "3.7.1"
  }
 },
 "nbformat": 4,
 "nbformat_minor": 2
}
